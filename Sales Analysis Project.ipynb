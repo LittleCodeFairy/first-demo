{
 "cells": [
  {
   "cell_type": "markdown",
   "id": "96eca7fe-77a6-4e93-b2a9-eaafdaaad60a",
   "metadata": {},
   "source": [
    "# AAL Sales Analysis Report for the Fourth Quarter of 2020"
   ]
  },
  {
   "cell_type": "code",
   "execution_count": 1,
   "id": "b1772260-a8f4-4c1d-bbd2-e5655f77f610",
   "metadata": {},
   "outputs": [],
   "source": [
    "import pandas as pd\n",
    "import seaborn as sns\n",
    "import numpy as np\n",
    "import matplotlib.pyplot as plt\n",
    "from matplotlib import dates\n",
    "from datetime import datetime"
   ]
  },
  {
   "cell_type": "code",
   "execution_count": 2,
   "id": "af8c33da-ca97-4976-b483-1d9c654a4b45",
   "metadata": {},
   "outputs": [],
   "source": [
    "## 1. Data Wrangling\n",
    "# first load the data\n",
    "Sales_data=pd.read_csv('AusApparalSales4thQrt2020.csv')"
   ]
  },
  {
   "cell_type": "code",
   "execution_count": 3,
   "id": "473bfa71-4c15-40d4-baa2-0057429e135b",
   "metadata": {},
   "outputs": [
    {
     "data": {
      "text/html": [
       "<div>\n",
       "<style scoped>\n",
       "    .dataframe tbody tr th:only-of-type {\n",
       "        vertical-align: middle;\n",
       "    }\n",
       "\n",
       "    .dataframe tbody tr th {\n",
       "        vertical-align: top;\n",
       "    }\n",
       "\n",
       "    .dataframe thead th {\n",
       "        text-align: right;\n",
       "    }\n",
       "</style>\n",
       "<table border=\"1\" class=\"dataframe\">\n",
       "  <thead>\n",
       "    <tr style=\"text-align: right;\">\n",
       "      <th></th>\n",
       "      <th>Date</th>\n",
       "      <th>Time</th>\n",
       "      <th>State</th>\n",
       "      <th>Group</th>\n",
       "      <th>Unit</th>\n",
       "      <th>Sales</th>\n",
       "    </tr>\n",
       "  </thead>\n",
       "  <tbody>\n",
       "    <tr>\n",
       "      <th>0</th>\n",
       "      <td>1-Oct-2020</td>\n",
       "      <td>Morning</td>\n",
       "      <td>WA</td>\n",
       "      <td>Kids</td>\n",
       "      <td>8</td>\n",
       "      <td>20000</td>\n",
       "    </tr>\n",
       "    <tr>\n",
       "      <th>1</th>\n",
       "      <td>1-Oct-2020</td>\n",
       "      <td>Morning</td>\n",
       "      <td>WA</td>\n",
       "      <td>Men</td>\n",
       "      <td>8</td>\n",
       "      <td>20000</td>\n",
       "    </tr>\n",
       "    <tr>\n",
       "      <th>2</th>\n",
       "      <td>1-Oct-2020</td>\n",
       "      <td>Morning</td>\n",
       "      <td>WA</td>\n",
       "      <td>Women</td>\n",
       "      <td>4</td>\n",
       "      <td>10000</td>\n",
       "    </tr>\n",
       "    <tr>\n",
       "      <th>3</th>\n",
       "      <td>1-Oct-2020</td>\n",
       "      <td>Morning</td>\n",
       "      <td>WA</td>\n",
       "      <td>Seniors</td>\n",
       "      <td>15</td>\n",
       "      <td>37500</td>\n",
       "    </tr>\n",
       "    <tr>\n",
       "      <th>4</th>\n",
       "      <td>1-Oct-2020</td>\n",
       "      <td>Afternoon</td>\n",
       "      <td>WA</td>\n",
       "      <td>Kids</td>\n",
       "      <td>3</td>\n",
       "      <td>7500</td>\n",
       "    </tr>\n",
       "  </tbody>\n",
       "</table>\n",
       "</div>"
      ],
      "text/plain": [
       "         Date        Time State     Group  Unit  Sales\n",
       "0  1-Oct-2020     Morning    WA      Kids     8  20000\n",
       "1  1-Oct-2020     Morning    WA       Men     8  20000\n",
       "2  1-Oct-2020     Morning    WA     Women     4  10000\n",
       "3  1-Oct-2020     Morning    WA   Seniors    15  37500\n",
       "4  1-Oct-2020   Afternoon    WA      Kids     3   7500"
      ]
     },
     "execution_count": 3,
     "metadata": {},
     "output_type": "execute_result"
    }
   ],
   "source": [
    "Sales_data.head()"
   ]
  },
  {
   "cell_type": "code",
   "execution_count": 4,
   "id": "92e5187f-2827-41d2-b3e8-b93adddb411e",
   "metadata": {},
   "outputs": [
    {
     "data": {
      "text/plain": [
       "Date     0\n",
       "Time     0\n",
       "State    0\n",
       "Group    0\n",
       "Unit     0\n",
       "Sales    0\n",
       "dtype: int64"
      ]
     },
     "execution_count": 4,
     "metadata": {},
     "output_type": "execute_result"
    }
   ],
   "source": [
    "# Code to handle missing data\n",
    "Sales_data.isna().sum()"
   ]
  },
  {
   "cell_type": "code",
   "execution_count": 5,
   "id": "11cf20d5-e5f8-4d00-9486-07f78b226e55",
   "metadata": {},
   "outputs": [
    {
     "data": {
      "text/plain": [
       "(7560, 6)"
      ]
     },
     "execution_count": 5,
     "metadata": {},
     "output_type": "execute_result"
    }
   ],
   "source": [
    "Sales_data.shape"
   ]
  },
  {
   "cell_type": "code",
   "execution_count": 6,
   "id": "f85da544-4347-4e18-a952-9aa7492f3ec7",
   "metadata": {},
   "outputs": [
    {
     "data": {
      "text/html": [
       "<div>\n",
       "<style scoped>\n",
       "    .dataframe tbody tr th:only-of-type {\n",
       "        vertical-align: middle;\n",
       "    }\n",
       "\n",
       "    .dataframe tbody tr th {\n",
       "        vertical-align: top;\n",
       "    }\n",
       "\n",
       "    .dataframe thead th {\n",
       "        text-align: right;\n",
       "    }\n",
       "</style>\n",
       "<table border=\"1\" class=\"dataframe\">\n",
       "  <thead>\n",
       "    <tr style=\"text-align: right;\">\n",
       "      <th></th>\n",
       "      <th>Unit</th>\n",
       "      <th>Sales</th>\n",
       "    </tr>\n",
       "  </thead>\n",
       "  <tbody>\n",
       "    <tr>\n",
       "      <th>count</th>\n",
       "      <td>7560.000000</td>\n",
       "      <td>7560.000000</td>\n",
       "    </tr>\n",
       "    <tr>\n",
       "      <th>mean</th>\n",
       "      <td>18.005423</td>\n",
       "      <td>45013.558201</td>\n",
       "    </tr>\n",
       "    <tr>\n",
       "      <th>std</th>\n",
       "      <td>12.901403</td>\n",
       "      <td>32253.506944</td>\n",
       "    </tr>\n",
       "    <tr>\n",
       "      <th>min</th>\n",
       "      <td>2.000000</td>\n",
       "      <td>5000.000000</td>\n",
       "    </tr>\n",
       "    <tr>\n",
       "      <th>25%</th>\n",
       "      <td>8.000000</td>\n",
       "      <td>20000.000000</td>\n",
       "    </tr>\n",
       "    <tr>\n",
       "      <th>50%</th>\n",
       "      <td>14.000000</td>\n",
       "      <td>35000.000000</td>\n",
       "    </tr>\n",
       "    <tr>\n",
       "      <th>75%</th>\n",
       "      <td>26.000000</td>\n",
       "      <td>65000.000000</td>\n",
       "    </tr>\n",
       "    <tr>\n",
       "      <th>max</th>\n",
       "      <td>65.000000</td>\n",
       "      <td>162500.000000</td>\n",
       "    </tr>\n",
       "  </tbody>\n",
       "</table>\n",
       "</div>"
      ],
      "text/plain": [
       "              Unit          Sales\n",
       "count  7560.000000    7560.000000\n",
       "mean     18.005423   45013.558201\n",
       "std      12.901403   32253.506944\n",
       "min       2.000000    5000.000000\n",
       "25%       8.000000   20000.000000\n",
       "50%      14.000000   35000.000000\n",
       "75%      26.000000   65000.000000\n",
       "max      65.000000  162500.000000"
      ]
     },
     "execution_count": 6,
     "metadata": {},
     "output_type": "execute_result"
    }
   ],
   "source": [
    "Sales_data.describe()"
   ]
  },
  {
   "cell_type": "code",
   "execution_count": 7,
   "id": "49ede237-4d06-4dd4-ab19-578ee201e4b8",
   "metadata": {},
   "outputs": [
    {
     "name": "stdout",
     "output_type": "stream",
     "text": [
      "<class 'pandas.core.frame.DataFrame'>\n",
      "RangeIndex: 7560 entries, 0 to 7559\n",
      "Data columns (total 6 columns):\n",
      " #   Column  Non-Null Count  Dtype \n",
      "---  ------  --------------  ----- \n",
      " 0   Date    7560 non-null   object\n",
      " 1   Time    7560 non-null   object\n",
      " 2   State   7560 non-null   object\n",
      " 3   Group   7560 non-null   object\n",
      " 4   Unit    7560 non-null   int64 \n",
      " 5   Sales   7560 non-null   int64 \n",
      "dtypes: int64(2), object(4)\n",
      "memory usage: 354.5+ KB\n"
     ]
    }
   ],
   "source": [
    "Sales_data.info()"
   ]
  },
  {
   "cell_type": "code",
   "execution_count": 8,
   "id": "0163afb9-6285-4d96-91af-30df7b148388",
   "metadata": {},
   "outputs": [
    {
     "data": {
      "text/plain": [
       "<bound method DataFrame.corr of              Date        Time State     Group  Unit  Sales\n",
       "0      1-Oct-2020     Morning    WA      Kids     8  20000\n",
       "1      1-Oct-2020     Morning    WA       Men     8  20000\n",
       "2      1-Oct-2020     Morning    WA     Women     4  10000\n",
       "3      1-Oct-2020     Morning    WA   Seniors    15  37500\n",
       "4      1-Oct-2020   Afternoon    WA      Kids     3   7500\n",
       "...           ...         ...   ...       ...   ...    ...\n",
       "7555  30-Dec-2020   Afternoon   TAS   Seniors    14  35000\n",
       "7556  30-Dec-2020     Evening   TAS      Kids    15  37500\n",
       "7557  30-Dec-2020     Evening   TAS       Men    15  37500\n",
       "7558  30-Dec-2020     Evening   TAS     Women    11  27500\n",
       "7559  30-Dec-2020     Evening   TAS   Seniors    13  32500\n",
       "\n",
       "[7560 rows x 6 columns]>"
      ]
     },
     "execution_count": 8,
     "metadata": {},
     "output_type": "execute_result"
    }
   ],
   "source": [
    "Sales_data.corr"
   ]
  },
  {
   "cell_type": "markdown",
   "id": "a56aa612-afe7-483e-a123-67dae08d6807",
   "metadata": {},
   "source": [
    "# Normalize the data (example for Sales and Unit columns)"
   ]
  },
  {
   "cell_type": "code",
   "execution_count": 9,
   "id": "e9680a2d-366b-47ba-82ca-2849d6c369bd",
   "metadata": {},
   "outputs": [],
   "source": [
    "from sklearn.preprocessing import MinMaxScaler"
   ]
  },
  {
   "cell_type": "code",
   "execution_count": 10,
   "id": "1d31de98-4aea-49e8-8a48-787508426305",
   "metadata": {},
   "outputs": [],
   "source": [
    "scaler = MinMaxScaler()\n",
    "Sales_data[['Sales', 'Unit']] = scaler.fit_transform(Sales_data[['Sales', 'Unit']])"
   ]
  },
  {
   "cell_type": "code",
   "execution_count": 11,
   "id": "1178f8d0-e7e7-4bd4-ba5f-6078dfee60c3",
   "metadata": {},
   "outputs": [],
   "source": [
    "# Save the cleaned and normalized data\n",
    "Sales_data.to_csv('Cleaned_Normalized_AusApparalSales4thQrt2020.csv', index=False)"
   ]
  },
  {
   "cell_type": "code",
   "execution_count": 12,
   "id": "a3fc807e-feba-45f7-8a87-e93edd396323",
   "metadata": {},
   "outputs": [
    {
     "data": {
      "text/plain": [
       "0       0.095238\n",
       "1       0.095238\n",
       "2       0.031746\n",
       "3       0.206349\n",
       "4       0.015873\n",
       "          ...   \n",
       "7555    0.190476\n",
       "7556    0.206349\n",
       "7557    0.206349\n",
       "7558    0.142857\n",
       "7559    0.174603\n",
       "Name: Sales, Length: 7560, dtype: float64"
      ]
     },
     "execution_count": 12,
     "metadata": {},
     "output_type": "execute_result"
    }
   ],
   "source": [
    "Sales_data.Sales"
   ]
  },
  {
   "cell_type": "code",
   "execution_count": 13,
   "id": "3e7aabf4-6753-4313-b397-62b430edd752",
   "metadata": {},
   "outputs": [
    {
     "data": {
      "text/plain": [
       "0       0.095238\n",
       "1       0.095238\n",
       "2       0.031746\n",
       "3       0.206349\n",
       "4       0.015873\n",
       "          ...   \n",
       "7555    0.190476\n",
       "7556    0.206349\n",
       "7557    0.206349\n",
       "7558    0.142857\n",
       "7559    0.174603\n",
       "Name: Unit, Length: 7560, dtype: float64"
      ]
     },
     "execution_count": 13,
     "metadata": {},
     "output_type": "execute_result"
    }
   ],
   "source": [
    "Sales_data.Unit"
   ]
  },
  {
   "cell_type": "markdown",
   "id": "8eb99fc1-1bd2-42f8-ae72-0ebb658801bb",
   "metadata": {},
   "source": [
    "# GroupBy example with column State & Group"
   ]
  },
  {
   "cell_type": "code",
   "execution_count": 14,
   "id": "6489a604-b7fe-4d1a-8cf0-bf62752b0a1c",
   "metadata": {},
   "outputs": [
    {
     "data": {
      "text/html": [
       "<div>\n",
       "<style scoped>\n",
       "    .dataframe tbody tr th:only-of-type {\n",
       "        vertical-align: middle;\n",
       "    }\n",
       "\n",
       "    .dataframe tbody tr th {\n",
       "        vertical-align: top;\n",
       "    }\n",
       "\n",
       "    .dataframe thead th {\n",
       "        text-align: right;\n",
       "    }\n",
       "</style>\n",
       "<table border=\"1\" class=\"dataframe\">\n",
       "  <thead>\n",
       "    <tr style=\"text-align: right;\">\n",
       "      <th></th>\n",
       "      <th>Date</th>\n",
       "      <th>Time</th>\n",
       "      <th>State</th>\n",
       "      <th>Group</th>\n",
       "      <th>Unit</th>\n",
       "      <th>Sales</th>\n",
       "    </tr>\n",
       "  </thead>\n",
       "  <tbody>\n",
       "    <tr>\n",
       "      <th>0</th>\n",
       "      <td>1-Oct-2020</td>\n",
       "      <td>Morning</td>\n",
       "      <td>WA</td>\n",
       "      <td>Kids</td>\n",
       "      <td>0.095238</td>\n",
       "      <td>0.095238</td>\n",
       "    </tr>\n",
       "    <tr>\n",
       "      <th>1</th>\n",
       "      <td>1-Oct-2020</td>\n",
       "      <td>Morning</td>\n",
       "      <td>WA</td>\n",
       "      <td>Men</td>\n",
       "      <td>0.095238</td>\n",
       "      <td>0.095238</td>\n",
       "    </tr>\n",
       "    <tr>\n",
       "      <th>2</th>\n",
       "      <td>1-Oct-2020</td>\n",
       "      <td>Morning</td>\n",
       "      <td>WA</td>\n",
       "      <td>Women</td>\n",
       "      <td>0.031746</td>\n",
       "      <td>0.031746</td>\n",
       "    </tr>\n",
       "    <tr>\n",
       "      <th>3</th>\n",
       "      <td>1-Oct-2020</td>\n",
       "      <td>Morning</td>\n",
       "      <td>WA</td>\n",
       "      <td>Seniors</td>\n",
       "      <td>0.206349</td>\n",
       "      <td>0.206349</td>\n",
       "    </tr>\n",
       "    <tr>\n",
       "      <th>4</th>\n",
       "      <td>1-Oct-2020</td>\n",
       "      <td>Afternoon</td>\n",
       "      <td>WA</td>\n",
       "      <td>Kids</td>\n",
       "      <td>0.015873</td>\n",
       "      <td>0.015873</td>\n",
       "    </tr>\n",
       "    <tr>\n",
       "      <th>...</th>\n",
       "      <td>...</td>\n",
       "      <td>...</td>\n",
       "      <td>...</td>\n",
       "      <td>...</td>\n",
       "      <td>...</td>\n",
       "      <td>...</td>\n",
       "    </tr>\n",
       "    <tr>\n",
       "      <th>159</th>\n",
       "      <td>2-Oct-2020</td>\n",
       "      <td>Morning</td>\n",
       "      <td>TAS</td>\n",
       "      <td>Seniors</td>\n",
       "      <td>0.126984</td>\n",
       "      <td>0.126984</td>\n",
       "    </tr>\n",
       "    <tr>\n",
       "      <th>160</th>\n",
       "      <td>2-Oct-2020</td>\n",
       "      <td>Afternoon</td>\n",
       "      <td>TAS</td>\n",
       "      <td>Kids</td>\n",
       "      <td>0.142857</td>\n",
       "      <td>0.142857</td>\n",
       "    </tr>\n",
       "    <tr>\n",
       "      <th>161</th>\n",
       "      <td>2-Oct-2020</td>\n",
       "      <td>Afternoon</td>\n",
       "      <td>TAS</td>\n",
       "      <td>Men</td>\n",
       "      <td>0.047619</td>\n",
       "      <td>0.047619</td>\n",
       "    </tr>\n",
       "    <tr>\n",
       "      <th>162</th>\n",
       "      <td>2-Oct-2020</td>\n",
       "      <td>Afternoon</td>\n",
       "      <td>TAS</td>\n",
       "      <td>Women</td>\n",
       "      <td>0.031746</td>\n",
       "      <td>0.031746</td>\n",
       "    </tr>\n",
       "    <tr>\n",
       "      <th>163</th>\n",
       "      <td>2-Oct-2020</td>\n",
       "      <td>Afternoon</td>\n",
       "      <td>TAS</td>\n",
       "      <td>Seniors</td>\n",
       "      <td>0.206349</td>\n",
       "      <td>0.206349</td>\n",
       "    </tr>\n",
       "  </tbody>\n",
       "</table>\n",
       "<p>140 rows × 6 columns</p>\n",
       "</div>"
      ],
      "text/plain": [
       "           Date        Time State     Group      Unit     Sales\n",
       "0    1-Oct-2020     Morning    WA      Kids  0.095238  0.095238\n",
       "1    1-Oct-2020     Morning    WA       Men  0.095238  0.095238\n",
       "2    1-Oct-2020     Morning    WA     Women  0.031746  0.031746\n",
       "3    1-Oct-2020     Morning    WA   Seniors  0.206349  0.206349\n",
       "4    1-Oct-2020   Afternoon    WA      Kids  0.015873  0.015873\n",
       "..          ...         ...   ...       ...       ...       ...\n",
       "159  2-Oct-2020     Morning   TAS   Seniors  0.126984  0.126984\n",
       "160  2-Oct-2020   Afternoon   TAS      Kids  0.142857  0.142857\n",
       "161  2-Oct-2020   Afternoon   TAS       Men  0.047619  0.047619\n",
       "162  2-Oct-2020   Afternoon   TAS     Women  0.031746  0.031746\n",
       "163  2-Oct-2020   Afternoon   TAS   Seniors  0.206349  0.206349\n",
       "\n",
       "[140 rows x 6 columns]"
      ]
     },
     "execution_count": 14,
     "metadata": {},
     "output_type": "execute_result"
    }
   ],
   "source": [
    "# GroupBy example with correct column names\n",
    "grouped_data = Sales_data.groupby(['State', 'Group'])\n",
    "grouped_data.head()"
   ]
  },
  {
   "cell_type": "markdown",
   "id": "cea5ea3d-771c-44e2-b741-fab4a36af862",
   "metadata": {},
   "source": [
    "# descriptive statistical analysis"
   ]
  },
  {
   "cell_type": "code",
   "execution_count": 15,
   "id": "0a3a4562-8ab3-4046-a6f0-5e3551bb6b3c",
   "metadata": {},
   "outputs": [],
   "source": [
    "# Perform descriptive statistical analysis\n",
    "sales_stats = Sales_data['Sales'].describe()\n",
    "sales_stats = Sales_data['Unit'].describe()"
   ]
  },
  {
   "cell_type": "code",
   "execution_count": 16,
   "id": "42d339fd-32e5-408d-976a-7b2960d32037",
   "metadata": {},
   "outputs": [
    {
     "data": {
      "text/plain": [
       "count    7560.000000\n",
       "mean        0.254054\n",
       "std         0.204784\n",
       "min         0.000000\n",
       "25%         0.095238\n",
       "50%         0.190476\n",
       "75%         0.380952\n",
       "max         1.000000\n",
       "Name: Unit, dtype: float64"
      ]
     },
     "execution_count": 16,
     "metadata": {},
     "output_type": "execute_result"
    }
   ],
   "source": [
    "sales_stats\n",
    "sales_stats"
   ]
  },
  {
   "cell_type": "markdown",
   "id": "a3a6fff1-7511-49c3-b581-4e6dcc1464bc",
   "metadata": {},
   "source": [
    "# Highest and Lowest Sales Groups"
   ]
  },
  {
   "cell_type": "code",
   "execution_count": 17,
   "id": "97d3259e-138a-45a1-9ec3-f6f16acc1e4a",
   "metadata": {},
   "outputs": [
    {
     "name": "stdout",
     "output_type": "stream",
     "text": [
      "Highest sales state:  VIC\n",
      "Lowest sales state:  WA\n"
     ]
    }
   ],
   "source": [
    "# Identify the group with the highest and lowest sales\n",
    "highest_sales_state = Sales_data.groupby('State')['Sales'].sum().idxmax()\n",
    "lowest_sales_state = Sales_data.groupby('State')['Sales'].sum().idxmin()\n",
    "print(f'Highest sales state: {highest_sales_state}')\n",
    "print(f'Lowest sales state: {lowest_sales_state}')"
   ]
  },
  {
   "cell_type": "code",
   "execution_count": 18,
   "id": "97745634-0627-4d35-8a13-3341a3bf6f71",
   "metadata": {},
   "outputs": [
    {
     "name": "stdout",
     "output_type": "stream",
     "text": [
      "Highest sales group:  Men\n",
      "Lowest sales group:  Seniors\n"
     ]
    }
   ],
   "source": [
    "highest_sales_group = Sales_data.groupby('Group')['Sales'].sum().idxmax()\n",
    "lowest_sales_group = Sales_data.groupby('Group')['Sales'].sum().idxmin()\n",
    "print(f'Highest sales group: {highest_sales_group}')\n",
    "print(f'Lowest sales group: {lowest_sales_group}')"
   ]
  },
  {
   "cell_type": "code",
   "execution_count": 19,
   "id": "3ff37367-fecb-4ee3-93d5-34e8abd23b92",
   "metadata": {},
   "outputs": [],
   "source": [
    "# Convert 'Date' column to datetime\n",
    "Sales_data['Date'] = pd.to_datetime(Sales_data['Date'])"
   ]
  },
  {
   "cell_type": "markdown",
   "id": "c5caeea3-664a-4a89-8b5d-62fd0065ac75",
   "metadata": {},
   "source": [
    "# Weekly, Monthly, and Quarterly Reports"
   ]
  },
  {
   "cell_type": "code",
   "execution_count": 20,
   "id": "4132da4f-5236-4d18-899e-1df070bc7b4c",
   "metadata": {},
   "outputs": [],
   "source": [
    "# Generate reports\n",
    "weekly_report = Sales_data.resample('W', on='Date').sum()\n",
    "monthly_report = Sales_data.resample('M', on='Date').sum()\n",
    "quarterly_report = Sales_data.resample('Q', on='Date').sum()"
   ]
  },
  {
   "cell_type": "code",
   "execution_count": 21,
   "id": "8b31429f-8405-43e3-a0f2-98c201df8395",
   "metadata": {},
   "outputs": [],
   "source": [
    "# Save the reports\n",
    "weekly_report.to_csv('Weekly_Report.csv')\n",
    "monthly_report.to_csv('Monthly_Report.csv')\n",
    "quarterly_report.to_csv('Quarterly_Report.csv')"
   ]
  },
  {
   "cell_type": "markdown",
   "id": "d7f261ff-91fb-49a3-abac-d0a7047470ab",
   "metadata": {},
   "source": [
    "# State-wise Sales Analysis"
   ]
  },
  {
   "cell_type": "code",
   "execution_count": 22,
   "id": "732570f3-bd16-4e9b-b9db-69b64feff7aa",
   "metadata": {},
   "outputs": [],
   "source": [
    "import matplotlib.pyplot as plt\n",
    "import seaborn as sns"
   ]
  },
  {
   "cell_type": "code",
   "execution_count": 23,
   "id": "cfb5b72b-effd-4099-a69a-bb297f4444b1",
   "metadata": {},
   "outputs": [
    {
     "data": {
      "image/png": "[encoded data removed]",
      "text/plain": [
       "<Figure size 1000x600 with 1 Axes>"
      ]
     },
     "metadata": {},
     "output_type": "display_data"
    }
   ],
   "source": [
    "# State-wise sales analysis for different demographic groups\n",
    "plt.figure(figsize=(10, 6))\n",
    "sns.barplot(data=Sales_data, x='State', y='Sales', hue='Group')\n",
    "plt.title('State-wise Sales Analysis for Different Demographic Groups')\n",
    "plt.xticks(rotation=45)\n",
    "plt.tight_layout()\n",
    "plt.savefig('State_wise_Sales_Analysis.png')\n",
    "plt.show()"
   ]
  },
  {
   "cell_type": "markdown",
   "id": "ec238791-a95a-484d-befb-3a5f84529f2d",
   "metadata": {},
   "source": [
    "# Group-wise Sales Analysis"
   ]
  },
  {
   "cell_type": "code",
   "execution_count": 24,
   "id": "e2a0522e-1194-432c-91f6-2fcf638a2122",
   "metadata": {},
   "outputs": [
    {
     "data": {
      "image/png": "[encoded data removed]",
      "text/plain": [
       "<Figure size 1000x600 with 1 Axes>"
      ]
     },
     "metadata": {},
     "output_type": "display_data"
    }
   ],
   "source": [
    "# Group-wise sales analysis across various states\n",
    "plt.figure(figsize=(10, 6))\n",
    "sns.barplot(data=Sales_data, x='Group', y='Sales', hue='State')\n",
    "plt.title('Group-wise Sales Analysis Across Various States')\n",
    "plt.xticks(rotation=45)\n",
    "plt.tight_layout()\n",
    "plt.savefig('Group_wise_Sales_Analysis.png')\n",
    "plt.show()"
   ]
  },
  {
   "cell_type": "markdown",
   "id": "618b0149-9587-4e56-ac05-5f6a16d3a8d2",
   "metadata": {},
   "source": [
    "# Time-of-the-Day Sales Analysis"
   ]
  },
  {
   "cell_type": "code",
   "execution_count": 25,
   "id": "180276e3-e48d-42f4-91bf-5e877d078020",
   "metadata": {},
   "outputs": [
    {
     "name": "stdout",
     "output_type": "stream",
     "text": [
      "[' Morning' ' Afternoon' ' Evening']\n"
     ]
    }
   ],
   "source": [
    "# Inspect unique values in the Time column\n",
    "print(Sales_data['Time'].unique())"
   ]
  },
  {
   "cell_type": "code",
   "execution_count": 26,
   "id": "1f675f5b-7044-497e-9990-d26cd1048b22",
   "metadata": {},
   "outputs": [],
   "source": [
    "# Function to convert general time descriptions to a standardized time\n",
    "def convert_time(time_str):\n",
    "    time_str = time_str.strip().lower()  # Strip whitespace and convert to lowercase\n",
    "    if time_str in [\"morning\"]:\n",
    "        return \"09:00\"\n",
    "    elif time_str in [\"afternoon\"]:\n",
    "        return \"15:00\"\n",
    "    elif time_str in [\"evening\"]:\n",
    "        return \"19:00\"\n",
    "    elif time_str in [\"night\"]:\n",
    "        return \"21:00\"\n",
    "    else:\n",
    "        return time_str  # Return as-is if it's already in %H:%M format"
   ]
  },
  {
   "cell_type": "code",
   "execution_count": 27,
   "id": "810c185d-9774-49d9-8d19-ea639a391218",
   "metadata": {},
   "outputs": [],
   "source": [
    "# Apply the conversion function to the Time column\n",
    "Sales_data['Time'] = Sales_data['Time'].apply(convert_time)"
   ]
  },
  {
   "cell_type": "code",
   "execution_count": 28,
   "id": "fb24b31d-ec16-481c-abde-3eb7937f5c3c",
   "metadata": {},
   "outputs": [],
   "source": [
    "# Convert the cleaned Time column to datetime and extract the hour\n",
    "Sales_data['Hour'] = pd.to_datetime(Sales_data['Time'], format='%H:%M').dt.hour"
   ]
  },
  {
   "cell_type": "code",
   "execution_count": 29,
   "id": "ad227e69-11cf-436e-ad19-9689bc171389",
   "metadata": {},
   "outputs": [
    {
     "name": "stdout",
     "output_type": "stream",
     "text": [
      "    Time  Hour\n",
      "0  09:00     9\n",
      "1  09:00     9\n",
      "2  09:00     9\n",
      "3  09:00     9\n",
      "4  15:00    15\n"
     ]
    }
   ],
   "source": [
    "# Verify the conversion\n",
    "print(Sales_data[['Time', 'Hour']].head())"
   ]
  },
  {
   "cell_type": "code",
   "execution_count": 30,
   "id": "964e5e47-2289-49dc-b16a-dcf2cdecdd95",
   "metadata": {},
   "outputs": [],
   "source": [
    "# Group sales by the hour of the day\n",
    "hourly_sales = Sales_data.groupby('Hour')['Sales'].sum().reset_index()"
   ]
  },
  {
   "cell_type": "code",
   "execution_count": 31,
   "id": "fef1bd29-2e3c-427d-98f6-6bc076ec5495",
   "metadata": {},
   "outputs": [],
   "source": [
    "# Time-of-the-day analysis: Identify peak and off-peak sales periods\n",
    "Sales_data['Hour'] = pd.to_datetime(Sales_data['Time'], format='%H:%M').dt.hour\n",
    "hourly_sales = Sales_data.groupby('Hour')['Sales'].sum().reset_index()"
   ]
  },
  {
   "cell_type": "code",
   "execution_count": 32,
   "id": "1f7e8c1c-47bc-47cf-919f-4406f6457e31",
   "metadata": {},
   "outputs": [
    {
     "data": {
      "image/png": "[encoded data removed]",
      "text/plain": [
       "<Figure size 1000x600 with 1 Axes>"
      ]
     },
     "metadata": {},
     "output_type": "display_data"
    }
   ],
   "source": [
    "plt.figure(figsize=(10, 6))\n",
    "sns.lineplot(data=hourly_sales, x='Hour', y='Sales')\n",
    "plt.title('Time-of-the-Day Sales Analysis')\n",
    "plt.xticks(range(0, 24))\n",
    "plt.tight_layout()\n",
    "plt.savefig('Time_of_Day_Sales_Analysis.png')\n",
    "plt.show()"
   ]
  },
  {
   "cell_type": "markdown",
   "id": "ad77850d-4bb1-43df-b6ff-c560af830756",
   "metadata": {},
   "source": [
    "# Sales Over Time"
   ]
  },
  {
   "cell_type": "code",
   "execution_count": 33,
   "id": "2a8684c9-e149-41bb-b38f-f009f0f83ee9",
   "metadata": {},
   "outputs": [],
   "source": [
    "# Daily, weekly, monthly, and quarterly charts\n",
    "daily_sales = Sales_data.resample('D', on='Date').sum()\n",
    "weekly_sales = Sales_data.resample('W-Mon', on='Date').sum()\n",
    "monthly_sales = Sales_data.resample('M', on='Date').sum()\n",
    "quarterly_sales = Sales_data.resample('Q', on='Date').sum()"
   ]
  },
  {
   "cell_type": "code",
   "execution_count": 34,
   "id": "6355ab5f-aa16-438a-905f-203674ddbe74",
   "metadata": {},
   "outputs": [
    {
     "data": {
      "image/png": "[encoded data removed]",
      "text/plain": [
       "<Figure size 1000x600 with 1 Axes>"
      ]
     },
     "metadata": {},
     "output_type": "display_data"
    }
   ],
   "source": [
    "plt.figure(figsize=(10, 6))\n",
    "sns.lineplot(data=daily_sales, x='Date', y='Sales', label='Daily')\n",
    "sns.lineplot(data=weekly_sales, x='Date', y='Sales', label='Weekly')\n",
    "sns.lineplot(data=monthly_sales, x='Date', y='Sales', label='Monthly')\n",
    "sns.lineplot(data=quarterly_sales, x='Date', y='Sales', label='Quarterly')\n",
    "plt.title('Sales Over Time')\n",
    "plt.legend()\n",
    "plt.tight_layout()\n",
    "plt.savefig('Sales_Over_Time.png')\n",
    "plt.show()"
   ]
  },
  {
   "cell_type": "code",
   "execution_count": 35,
   "id": "2ed8431a-6337-467e-963d-812a9bed000c",
   "metadata": {},
   "outputs": [
    {
     "data": {
      "text/html": [
       "<div>\n",
       "<style scoped>\n",
       "    .dataframe tbody tr th:only-of-type {\n",
       "        vertical-align: middle;\n",
       "    }\n",
       "\n",
       "    .dataframe tbody tr th {\n",
       "        vertical-align: top;\n",
       "    }\n",
       "\n",
       "    .dataframe thead th {\n",
       "        text-align: right;\n",
       "    }\n",
       "</style>\n",
       "<table border=\"1\" class=\"dataframe\">\n",
       "  <thead>\n",
       "    <tr style=\"text-align: right;\">\n",
       "      <th></th>\n",
       "      <th>Date</th>\n",
       "      <th>Time</th>\n",
       "      <th>State</th>\n",
       "      <th>Group</th>\n",
       "      <th>Unit</th>\n",
       "      <th>Sales</th>\n",
       "      <th>Hour</th>\n",
       "    </tr>\n",
       "  </thead>\n",
       "  <tbody>\n",
       "    <tr>\n",
       "      <th>0</th>\n",
       "      <td>2020-10-01</td>\n",
       "      <td>09:00</td>\n",
       "      <td>WA</td>\n",
       "      <td>Kids</td>\n",
       "      <td>0.095238</td>\n",
       "      <td>0.095238</td>\n",
       "      <td>9</td>\n",
       "    </tr>\n",
       "    <tr>\n",
       "      <th>1</th>\n",
       "      <td>2020-10-01</td>\n",
       "      <td>09:00</td>\n",
       "      <td>WA</td>\n",
       "      <td>Men</td>\n",
       "      <td>0.095238</td>\n",
       "      <td>0.095238</td>\n",
       "      <td>9</td>\n",
       "    </tr>\n",
       "    <tr>\n",
       "      <th>2</th>\n",
       "      <td>2020-10-01</td>\n",
       "      <td>09:00</td>\n",
       "      <td>WA</td>\n",
       "      <td>Women</td>\n",
       "      <td>0.031746</td>\n",
       "      <td>0.031746</td>\n",
       "      <td>9</td>\n",
       "    </tr>\n",
       "    <tr>\n",
       "      <th>3</th>\n",
       "      <td>2020-10-01</td>\n",
       "      <td>09:00</td>\n",
       "      <td>WA</td>\n",
       "      <td>Seniors</td>\n",
       "      <td>0.206349</td>\n",
       "      <td>0.206349</td>\n",
       "      <td>9</td>\n",
       "    </tr>\n",
       "    <tr>\n",
       "      <th>4</th>\n",
       "      <td>2020-10-01</td>\n",
       "      <td>15:00</td>\n",
       "      <td>WA</td>\n",
       "      <td>Kids</td>\n",
       "      <td>0.015873</td>\n",
       "      <td>0.015873</td>\n",
       "      <td>15</td>\n",
       "    </tr>\n",
       "  </tbody>\n",
       "</table>\n",
       "</div>"
      ],
      "text/plain": [
       "        Date   Time State     Group      Unit     Sales  Hour\n",
       "0 2020-10-01  09:00    WA      Kids  0.095238  0.095238     9\n",
       "1 2020-10-01  09:00    WA       Men  0.095238  0.095238     9\n",
       "2 2020-10-01  09:00    WA     Women  0.031746  0.031746     9\n",
       "3 2020-10-01  09:00    WA   Seniors  0.206349  0.206349     9\n",
       "4 2020-10-01  15:00    WA      Kids  0.015873  0.015873    15"
      ]
     },
     "execution_count": 35,
     "metadata": {},
     "output_type": "execute_result"
    }
   ],
   "source": [
    "Sales_data.head()"
   ]
  },
  {
   "cell_type": "code",
   "execution_count": 36,
   "id": "f7c29fdf-44e8-4dbb-9e45-e0cc8b3662b3",
   "metadata": {},
   "outputs": [
    {
     "data": {
      "text/html": [
       "<div>\n",
       "<style scoped>\n",
       "    .dataframe tbody tr th:only-of-type {\n",
       "        vertical-align: middle;\n",
       "    }\n",
       "\n",
       "    .dataframe tbody tr th {\n",
       "        vertical-align: top;\n",
       "    }\n",
       "\n",
       "    .dataframe thead th {\n",
       "        text-align: right;\n",
       "    }\n",
       "</style>\n",
       "<table border=\"1\" class=\"dataframe\">\n",
       "  <thead>\n",
       "    <tr style=\"text-align: right;\">\n",
       "      <th></th>\n",
       "      <th>Date</th>\n",
       "      <th>Time</th>\n",
       "      <th>State</th>\n",
       "      <th>Group</th>\n",
       "      <th>Unit</th>\n",
       "      <th>Sales</th>\n",
       "      <th>Hour</th>\n",
       "    </tr>\n",
       "  </thead>\n",
       "  <tbody>\n",
       "    <tr>\n",
       "      <th>0</th>\n",
       "      <td>2020-10-01</td>\n",
       "      <td>09:00</td>\n",
       "      <td>WA</td>\n",
       "      <td>Kids</td>\n",
       "      <td>0.095238</td>\n",
       "      <td>0.095238</td>\n",
       "      <td>9</td>\n",
       "    </tr>\n",
       "    <tr>\n",
       "      <th>1</th>\n",
       "      <td>2020-10-01</td>\n",
       "      <td>09:00</td>\n",
       "      <td>WA</td>\n",
       "      <td>Men</td>\n",
       "      <td>0.095238</td>\n",
       "      <td>0.095238</td>\n",
       "      <td>9</td>\n",
       "    </tr>\n",
       "    <tr>\n",
       "      <th>2</th>\n",
       "      <td>2020-10-01</td>\n",
       "      <td>09:00</td>\n",
       "      <td>WA</td>\n",
       "      <td>Women</td>\n",
       "      <td>0.031746</td>\n",
       "      <td>0.031746</td>\n",
       "      <td>9</td>\n",
       "    </tr>\n",
       "    <tr>\n",
       "      <th>3</th>\n",
       "      <td>2020-10-01</td>\n",
       "      <td>09:00</td>\n",
       "      <td>WA</td>\n",
       "      <td>Seniors</td>\n",
       "      <td>0.206349</td>\n",
       "      <td>0.206349</td>\n",
       "      <td>9</td>\n",
       "    </tr>\n",
       "    <tr>\n",
       "      <th>4</th>\n",
       "      <td>2020-10-01</td>\n",
       "      <td>15:00</td>\n",
       "      <td>WA</td>\n",
       "      <td>Kids</td>\n",
       "      <td>0.015873</td>\n",
       "      <td>0.015873</td>\n",
       "      <td>15</td>\n",
       "    </tr>\n",
       "    <tr>\n",
       "      <th>...</th>\n",
       "      <td>...</td>\n",
       "      <td>...</td>\n",
       "      <td>...</td>\n",
       "      <td>...</td>\n",
       "      <td>...</td>\n",
       "      <td>...</td>\n",
       "      <td>...</td>\n",
       "    </tr>\n",
       "    <tr>\n",
       "      <th>159</th>\n",
       "      <td>2020-10-02</td>\n",
       "      <td>09:00</td>\n",
       "      <td>TAS</td>\n",
       "      <td>Seniors</td>\n",
       "      <td>0.126984</td>\n",
       "      <td>0.126984</td>\n",
       "      <td>9</td>\n",
       "    </tr>\n",
       "    <tr>\n",
       "      <th>160</th>\n",
       "      <td>2020-10-02</td>\n",
       "      <td>15:00</td>\n",
       "      <td>TAS</td>\n",
       "      <td>Kids</td>\n",
       "      <td>0.142857</td>\n",
       "      <td>0.142857</td>\n",
       "      <td>15</td>\n",
       "    </tr>\n",
       "    <tr>\n",
       "      <th>161</th>\n",
       "      <td>2020-10-02</td>\n",
       "      <td>15:00</td>\n",
       "      <td>TAS</td>\n",
       "      <td>Men</td>\n",
       "      <td>0.047619</td>\n",
       "      <td>0.047619</td>\n",
       "      <td>15</td>\n",
       "    </tr>\n",
       "    <tr>\n",
       "      <th>162</th>\n",
       "      <td>2020-10-02</td>\n",
       "      <td>15:00</td>\n",
       "      <td>TAS</td>\n",
       "      <td>Women</td>\n",
       "      <td>0.031746</td>\n",
       "      <td>0.031746</td>\n",
       "      <td>15</td>\n",
       "    </tr>\n",
       "    <tr>\n",
       "      <th>163</th>\n",
       "      <td>2020-10-02</td>\n",
       "      <td>15:00</td>\n",
       "      <td>TAS</td>\n",
       "      <td>Seniors</td>\n",
       "      <td>0.206349</td>\n",
       "      <td>0.206349</td>\n",
       "      <td>15</td>\n",
       "    </tr>\n",
       "  </tbody>\n",
       "</table>\n",
       "<p>140 rows × 7 columns</p>\n",
       "</div>"
      ],
      "text/plain": [
       "          Date   Time State     Group      Unit     Sales  Hour\n",
       "0   2020-10-01  09:00    WA      Kids  0.095238  0.095238     9\n",
       "1   2020-10-01  09:00    WA       Men  0.095238  0.095238     9\n",
       "2   2020-10-01  09:00    WA     Women  0.031746  0.031746     9\n",
       "3   2020-10-01  09:00    WA   Seniors  0.206349  0.206349     9\n",
       "4   2020-10-01  15:00    WA      Kids  0.015873  0.015873    15\n",
       "..         ...    ...   ...       ...       ...       ...   ...\n",
       "159 2020-10-02  09:00   TAS   Seniors  0.126984  0.126984     9\n",
       "160 2020-10-02  15:00   TAS      Kids  0.142857  0.142857    15\n",
       "161 2020-10-02  15:00   TAS       Men  0.047619  0.047619    15\n",
       "162 2020-10-02  15:00   TAS     Women  0.031746  0.031746    15\n",
       "163 2020-10-02  15:00   TAS   Seniors  0.206349  0.206349    15\n",
       "\n",
       "[140 rows x 7 columns]"
      ]
     },
     "execution_count": 36,
     "metadata": {},
     "output_type": "execute_result"
    }
   ],
   "source": [
    "grouped_data.head()"
   ]
  },
  {
   "cell_type": "markdown",
   "id": "fb686867-03cb-48a3-b4d5-b4e3765be6b1",
   "metadata": {},
   "source": [
    "# Recommendations and Conclusion"
   ]
  },
  {
   "cell_type": "raw",
   "id": "c6f65d22-b4c3-4a4d-8ad6-0ed92f0d9937",
   "metadata": {},
   "source": [
    "# Recommendations:\n",
    "Based on the analysis, it is recommended to invest more in the states and demographic groups with high potential for growth.\n",
    "Develop targeted sales programs for states with lower revenues to boost sales.\n",
    "\n",
    "# Conclusion\n",
    "Summarize the findings and insights from the analysis."
   ]
  },
  {
   "cell_type": "code",
   "execution_count": null,
   "id": "c81b8dd3-138a-4280-bf86-ffa234c7b505",
   "metadata": {},
   "outputs": [],
   "source": []
  }
 ],
 "metadata": {
  "kernelspec": {
   "display_name": "Python 3 (ipykernel)",
   "language": "python",
   "name": "python3"
  },
  "language_info": {
   "codemirror_mode": {
    "name": "ipython",
    "version": 3
   },
   "file_extension": ".py",
   "mimetype": "text/x-python",
   "name": "python",
   "nbconvert_exporter": "python",
   "pygments_lexer": "ipython3",
   "version": "3.11.7"
  }
 },
 "nbformat": 4,
 "nbformat_minor": 5
}
